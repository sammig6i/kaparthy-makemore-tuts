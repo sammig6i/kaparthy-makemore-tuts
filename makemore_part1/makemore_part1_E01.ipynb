{
  "nbformat": 4,
  "nbformat_minor": 0,
  "metadata": {
    "colab": {
      "provenance": [],
      "gpuType": "T4",
      "authorship_tag": "ABX9TyPHgG9jGvqvEPH6w6Vjvxmy",
      "include_colab_link": true
    },
    "kernelspec": {
      "name": "python3",
      "display_name": "Python 3"
    },
    "language_info": {
      "name": "python"
    },
    "accelerator": "GPU"
  },
  "cells": [
    {
      "cell_type": "markdown",
      "metadata": {
        "id": "view-in-github",
        "colab_type": "text"
      },
      "source": [
        "<a href=\"https://colab.research.google.com/github/sammig6i/kaparthy-makemore-tuts/blob/main/makemore_part1/makemore_part1_E01.ipynb\" target=\"_parent\"><img src=\"https://colab.research.google.com/assets/colab-badge.svg\" alt=\"Open In Colab\"/></a>"
      ]
    },
    {
      "cell_type": "code",
      "source": [
        "import torch\n",
        "import torch.nn.functional as F\n",
        "import matplotlib.pyplot as plt"
      ],
      "metadata": {
        "id": "L4DQf8FtTIai"
      },
      "execution_count": 11,
      "outputs": []
    },
    {
      "cell_type": "code",
      "source": [
        "words = open(\"/content/names (1).txt\", 'r').read().splitlines()"
      ],
      "metadata": {
        "id": "n2KWhxt_SZh4"
      },
      "execution_count": 3,
      "outputs": []
    },
    {
      "cell_type": "code",
      "source": [
        "len(words)"
      ],
      "metadata": {
        "colab": {
          "base_uri": "https://localhost:8080/"
        },
        "id": "tfSUhCYNS7pg",
        "outputId": "d148f939-efce-4421-d635-ea87b89fd9f2"
      },
      "execution_count": 4,
      "outputs": [
        {
          "output_type": "execute_result",
          "data": {
            "text/plain": [
              "32033"
            ]
          },
          "metadata": {},
          "execution_count": 4
        }
      ]
    },
    {
      "cell_type": "code",
      "source": [
        "chars = [\".\"] + sorted(list(set(\"\".join(words))))\n",
        "stoi = {s:i for i, s in enumerate(chars)}\n",
        "sstoi = {(s1, s2):i for i, (s1, s2) in enumerate([(s1, s2) for s1 in chars for s2 in chars])}\n",
        "stoi[\".\"] = 0\n",
        "itos = {i:s for s, i in stoi.items()}\n",
        "itoss = {i:(s1, s2) for (s1, s2), i in sstoi.items()}"
      ],
      "metadata": {
        "id": "eJcKCJ5cawX3"
      },
      "execution_count": 5,
      "outputs": []
    },
    {
      "cell_type": "code",
      "source": [
        "xs, ys = [], []\n",
        "for w in words:\n",
        "  chs = [\".\"] + list(w) + [\".\"]\n",
        "  for (ch1, ch2), ch3 in zip(zip(chs, chs[1:]), chs[2:]):\n",
        "    ix1 = sstoi[(ch1, ch2)]\n",
        "    ix2 = stoi[ch3]\n",
        "    xs.append(ix1)\n",
        "    ys.append(ix2)\n",
        "xs = torch.tensor(xs)\n",
        "ys = torch.tensor(ys)\n",
        "num = xs.nelement()\n",
        "print('Number of examples: ', num)\n",
        "print(f'xs size: {xs.shape}')\n",
        "print(f'ys size: {ys.shape}')\n"
      ],
      "metadata": {
        "colab": {
          "base_uri": "https://localhost:8080/"
        },
        "id": "UtrE9yyta6Z1",
        "outputId": "792a2ff5-2e77-4479-aed4-3ecc363399a7"
      },
      "execution_count": 6,
      "outputs": [
        {
          "output_type": "stream",
          "name": "stdout",
          "text": [
            "Number of examples:  196113\n",
            "xs size: torch.Size([196113])\n",
            "ys size: torch.Size([196113])\n"
          ]
        }
      ]
    },
    {
      "cell_type": "code",
      "source": [
        "for i in range(10):\n",
        "  print(f\"{itoss[xs[i].item()]} -> {itos[ys[i].item()]}\")\n",
        "  print(f\"{xs[i]} -> {ys[i]}\")"
      ],
      "metadata": {
        "colab": {
          "base_uri": "https://localhost:8080/"
        },
        "id": "s4McVVMwiQUs",
        "outputId": "8182ff93-1199-4ae4-9d97-be0baa31a386"
      },
      "execution_count": 7,
      "outputs": [
        {
          "output_type": "stream",
          "name": "stdout",
          "text": [
            "('.', 'e') -> m\n",
            "5 -> 13\n",
            "('e', 'm') -> m\n",
            "148 -> 13\n",
            "('m', 'm') -> a\n",
            "364 -> 1\n",
            "('m', 'a') -> .\n",
            "352 -> 0\n",
            "('.', 'o') -> l\n",
            "15 -> 12\n",
            "('o', 'l') -> i\n",
            "417 -> 9\n",
            "('l', 'i') -> v\n",
            "333 -> 22\n",
            "('i', 'v') -> i\n",
            "265 -> 9\n",
            "('v', 'i') -> a\n",
            "603 -> 1\n",
            "('i', 'a') -> .\n",
            "244 -> 0\n"
          ]
        }
      ]
    },
    {
      "cell_type": "code",
      "source": [
        "# init a 'network'\n",
        "g = torch.Generator().manual_seed(2147483647)\n",
        "W = torch.randn((len(itoss),27), generator=g, requires_grad=True)"
      ],
      "metadata": {
        "id": "famglcvGn3bc"
      },
      "execution_count": 8,
      "outputs": []
    },
    {
      "cell_type": "code",
      "source": [
        "batches = torch.arange(0, 100, 1)\n",
        "losses = []\n",
        "\n",
        "xenc = F.one_hot(xs, num_classes=len(itoss)).float()\n",
        "\n",
        "for _ in batches:\n",
        "\n",
        "  # forward pass\n",
        "  logits = xenc @ W\n",
        "  counts = logits.exp()\n",
        "  probs = counts / counts.sum(1, keepdim=True)\n",
        "  loss = -probs[torch.arange(num), ys].log().mean() + 0.01*(W**2).mean()\n",
        "  losses.append(loss.item())\n",
        "\n",
        "  # backward pass\n",
        "  W.grad = None\n",
        "  loss.backward()\n",
        "\n",
        "\n",
        "  # update\n",
        "  W.data += -50 * W.grad\n",
        "\n",
        "  print(f'Batch: {len(losses)}: loss = {loss.item()}')\n",
        "\n",
        "\n"
      ],
      "metadata": {
        "colab": {
          "base_uri": "https://localhost:8080/"
        },
        "id": "zx_qTx-to6Is",
        "outputId": "a4918564-f4b8-4954-8c66-bd2935cf451d"
      },
      "execution_count": 13,
      "outputs": [
        {
          "output_type": "stream",
          "name": "stdout",
          "text": [
            "Batch: 1: loss = 2.4096977710723877\n",
            "Batch: 2: loss = 2.4073662757873535\n",
            "Batch: 3: loss = 2.4050686359405518\n",
            "Batch: 4: loss = 2.4028050899505615\n",
            "Batch: 5: loss = 2.400573253631592\n",
            "Batch: 6: loss = 2.398374080657959\n",
            "Batch: 7: loss = 2.3962056636810303\n",
            "Batch: 8: loss = 2.3940680027008057\n",
            "Batch: 9: loss = 2.391960382461548\n",
            "Batch: 10: loss = 2.3898820877075195\n",
            "Batch: 11: loss = 2.3878326416015625\n",
            "Batch: 12: loss = 2.3858108520507812\n",
            "Batch: 13: loss = 2.383816957473755\n",
            "Batch: 14: loss = 2.381850004196167\n",
            "Batch: 15: loss = 2.3799095153808594\n",
            "Batch: 16: loss = 2.3779945373535156\n",
            "Batch: 17: loss = 2.376105546951294\n",
            "Batch: 18: loss = 2.3742411136627197\n",
            "Batch: 19: loss = 2.372401237487793\n",
            "Batch: 20: loss = 2.3705854415893555\n",
            "Batch: 21: loss = 2.368792772293091\n",
            "Batch: 22: loss = 2.367023468017578\n",
            "Batch: 23: loss = 2.365276575088501\n",
            "Batch: 24: loss = 2.3635518550872803\n",
            "Batch: 25: loss = 2.3618485927581787\n",
            "Batch: 26: loss = 2.3601672649383545\n",
            "Batch: 27: loss = 2.358506441116333\n",
            "Batch: 28: loss = 2.3568663597106934\n",
            "Batch: 29: loss = 2.3552463054656982\n",
            "Batch: 30: loss = 2.3536460399627686\n",
            "Batch: 31: loss = 2.352065324783325\n",
            "Batch: 32: loss = 2.35050368309021\n",
            "Batch: 33: loss = 2.3489606380462646\n",
            "Batch: 34: loss = 2.3474361896514893\n",
            "Batch: 35: loss = 2.3459293842315674\n",
            "Batch: 36: loss = 2.3444409370422363\n",
            "Batch: 37: loss = 2.3429696559906006\n",
            "Batch: 38: loss = 2.341515302658081\n",
            "Batch: 39: loss = 2.3400778770446777\n",
            "Batch: 40: loss = 2.3386571407318115\n",
            "Batch: 41: loss = 2.337252378463745\n",
            "Batch: 42: loss = 2.3358635902404785\n",
            "Batch: 43: loss = 2.3344905376434326\n",
            "Batch: 44: loss = 2.3331332206726074\n",
            "Batch: 45: loss = 2.3317906856536865\n",
            "Batch: 46: loss = 2.33046293258667\n",
            "Batch: 47: loss = 2.329150438308716\n",
            "Batch: 48: loss = 2.3278512954711914\n",
            "Batch: 49: loss = 2.3265669345855713\n",
            "Batch: 50: loss = 2.325296640396118\n",
            "Batch: 51: loss = 2.3240394592285156\n",
            "Batch: 52: loss = 2.322795867919922\n",
            "Batch: 53: loss = 2.321565866470337\n",
            "Batch: 54: loss = 2.3203482627868652\n",
            "Batch: 55: loss = 2.319143772125244\n",
            "Batch: 56: loss = 2.3179519176483154\n",
            "Batch: 57: loss = 2.3167724609375\n",
            "Batch: 58: loss = 2.3156049251556396\n",
            "Batch: 59: loss = 2.3144495487213135\n",
            "Batch: 60: loss = 2.3133060932159424\n",
            "Batch: 61: loss = 2.312174081802368\n",
            "Batch: 62: loss = 2.3110532760620117\n",
            "Batch: 63: loss = 2.309943914413452\n",
            "Batch: 64: loss = 2.3088455200195312\n",
            "Batch: 65: loss = 2.30775785446167\n",
            "Batch: 66: loss = 2.3066811561584473\n",
            "Batch: 67: loss = 2.305614709854126\n",
            "Batch: 68: loss = 2.3045589923858643\n",
            "Batch: 69: loss = 2.303513288497925\n",
            "Batch: 70: loss = 2.3024775981903076\n",
            "Batch: 71: loss = 2.3014519214630127\n",
            "Batch: 72: loss = 2.300436019897461\n",
            "Batch: 73: loss = 2.299429416656494\n",
            "Batch: 74: loss = 2.2984325885772705\n",
            "Batch: 75: loss = 2.297445297241211\n",
            "Batch: 76: loss = 2.296466827392578\n",
            "Batch: 77: loss = 2.295497417449951\n",
            "Batch: 78: loss = 2.29453706741333\n",
            "Batch: 79: loss = 2.2935855388641357\n",
            "Batch: 80: loss = 2.292642593383789\n",
            "Batch: 81: loss = 2.29170823097229\n",
            "Batch: 82: loss = 2.2907822132110596\n",
            "Batch: 83: loss = 2.2898643016815186\n",
            "Batch: 84: loss = 2.2889552116394043\n",
            "Batch: 85: loss = 2.2880537509918213\n",
            "Batch: 86: loss = 2.2871599197387695\n",
            "Batch: 87: loss = 2.2862744331359863\n",
            "Batch: 88: loss = 2.2853963375091553\n",
            "Batch: 89: loss = 2.2845261096954346\n",
            "Batch: 90: loss = 2.283663272857666\n",
            "Batch: 91: loss = 2.2828080654144287\n",
            "Batch: 92: loss = 2.2819602489471436\n",
            "Batch: 93: loss = 2.2811193466186523\n",
            "Batch: 94: loss = 2.2802858352661133\n",
            "Batch: 95: loss = 2.279458999633789\n",
            "Batch: 96: loss = 2.278639078140259\n",
            "Batch: 97: loss = 2.2778263092041016\n",
            "Batch: 98: loss = 2.2770204544067383\n",
            "Batch: 99: loss = 2.2762210369110107\n",
            "Batch: 100: loss = 2.275428295135498\n"
          ]
        }
      ]
    },
    {
      "cell_type": "code",
      "source": [
        "plt.plot(losses)\n",
        "        # Annotate plot wit final loss value\n",
        "plt.annotate(\n",
        "    text=f\"Final loss: {round(losses[-1], 2)}\",\n",
        "    xy=(len(losses), losses[-1]),\n",
        "    xytext=(len(losses) - 10, losses[-1] + 0.05),\n",
        "    arrowprops=dict(facecolor=\"black\", shrink=0.05),\n",
        ")\n",
        "plt.savefig(\"/content/nn_trigram_loss\")\n",
        "plt.show()"
      ],
      "metadata": {
        "colab": {
          "base_uri": "https://localhost:8080/",
          "height": 430
        },
        "id": "SfVqrno5tSTz",
        "outputId": "84766d15-f537-44ca-d295-7d31113f5d1d"
      },
      "execution_count": 27,
      "outputs": [
        {
          "output_type": "display_data",
          "data": {
            "text/plain": [
              "<Figure size 640x480 with 1 Axes>"
            ],
            "image/png": "[encoded data removed]"
          },
          "metadata": {}
        }
      ]
    }
  ]
}