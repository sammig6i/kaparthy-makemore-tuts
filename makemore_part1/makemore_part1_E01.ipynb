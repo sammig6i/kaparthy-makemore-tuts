{
  "nbformat": 4,
  "nbformat_minor": 0,
  "metadata": {
    "colab": {
      "provenance": [],
      "authorship_tag": "ABX9TyP0hte40VYERCh0qVywpYA7",
      "include_colab_link": true
    },
    "kernelspec": {
      "name": "python3",
      "display_name": "Python 3"
    },
    "language_info": {
      "name": "python"
    }
  },
  "cells": [
    {
      "cell_type": "markdown",
      "metadata": {
        "id": "view-in-github",
        "colab_type": "text"
      },
      "source": [
        "<a href=\"https://colab.research.google.com/github/sammig6i/kaparthy-makemore-tuts/blob/main/makemore_part1/makemore_part1_E01.ipynb\" target=\"_parent\"><img src=\"https://colab.research.google.com/assets/colab-badge.svg\" alt=\"Open In Colab\"/></a>"
      ]
    },
    {
      "cell_type": "code",
      "source": [
        "import torch\n",
        "import torch.nn.functional as F"
      ],
      "metadata": {
        "id": "L4DQf8FtTIai"
      },
      "execution_count": 23,
      "outputs": []
    },
    {
      "cell_type": "code",
      "source": [
        "words = open(\"/content/names (1).txt\", 'r').read().splitlines()"
      ],
      "metadata": {
        "id": "n2KWhxt_SZh4"
      },
      "execution_count": 24,
      "outputs": []
    },
    {
      "cell_type": "code",
      "source": [
        "len(words)"
      ],
      "metadata": {
        "colab": {
          "base_uri": "https://localhost:8080/"
        },
        "id": "tfSUhCYNS7pg",
        "outputId": "f6bf6606-8382-4a8c-f9d2-1f5f31cd45c9"
      },
      "execution_count": 25,
      "outputs": [
        {
          "output_type": "execute_result",
          "data": {
            "text/plain": [
              "32033"
            ]
          },
          "metadata": {},
          "execution_count": 25
        }
      ]
    },
    {
      "cell_type": "code",
      "source": [
        "chars = [\".\"] + sorted(list(set(\"\".join(words))))\n",
        "stoi = {s:i+1 for i, s in enumerate(chars)}\n",
        "sstoi = {(s1, s2):i for i, (s1, s2) in enumerate([(s1, s2) for s1 in chars for s2 in chars])}\n",
        "stoi[\".\"] = 0\n",
        "itos = {i:s for s, i in stoi.items()}\n",
        "itoss = {i:(s1, s2) for (s1, s2), i in sstoi.items()}"
      ],
      "metadata": {
        "id": "eJcKCJ5cawX3"
      },
      "execution_count": 58,
      "outputs": []
    },
    {
      "cell_type": "code",
      "source": [
        "xs, ys = [], []\n",
        "for w in words:\n",
        "  chs = [\".\"] + list(w) + [\".\"]\n",
        "  for (ch1, ch2), ch3 in zip(zip(chs, chs[1:]), chs[2:]):\n",
        "    ix1 = sstoi[(ch1, ch2)]\n",
        "    ix2 = stoi[ch3]\n",
        "    xs.append(ix1)\n",
        "    ys.append(ix2)\n",
        "xs = torch.tensor(xs)\n",
        "ys = torch.tensor(ys)\n",
        "num = xs.nelement()\n",
        "print('Number of examples: ', num)\n",
        "print(f'xs size: {xs.shape}')\n",
        "print(f'ys size: {ys.shape}')\n"
      ],
      "metadata": {
        "colab": {
          "base_uri": "https://localhost:8080/"
        },
        "id": "UtrE9yyta6Z1",
        "outputId": "e7d83e1f-6185-4ce9-cc07-53f0f1466247"
      },
      "execution_count": 59,
      "outputs": [
        {
          "output_type": "stream",
          "name": "stdout",
          "text": [
            "Number of examples:  196113\n",
            "xs size: torch.Size([196113])\n",
            "ys size: torch.Size([196113])\n"
          ]
        }
      ]
    },
    {
      "cell_type": "code",
      "source": [
        "for i in range(10):\n",
        "  print(f\"{itoss[xs[i].item()]} -> {itos[ys[i].item()]}\")\n",
        "  print(f\"{xs[i]} -> {ys[i]}\")"
      ],
      "metadata": {
        "colab": {
          "base_uri": "https://localhost:8080/"
        },
        "id": "s4McVVMwiQUs",
        "outputId": "769b706b-34e3-41a1-e346-768504b5bbcc"
      },
      "execution_count": 60,
      "outputs": [
        {
          "output_type": "stream",
          "name": "stdout",
          "text": [
            "('.', 'e') -> m\n",
            "5 -> 14\n",
            "('e', 'm') -> m\n",
            "148 -> 14\n",
            "('m', 'm') -> a\n",
            "364 -> 2\n",
            "('m', 'a') -> .\n",
            "352 -> 0\n",
            "('.', 'o') -> l\n",
            "15 -> 13\n",
            "('o', 'l') -> i\n",
            "417 -> 10\n",
            "('l', 'i') -> v\n",
            "333 -> 23\n",
            "('i', 'v') -> i\n",
            "265 -> 10\n",
            "('v', 'i') -> a\n",
            "603 -> 2\n",
            "('i', 'a') -> .\n",
            "244 -> 0\n"
          ]
        }
      ]
    },
    {
      "cell_type": "code",
      "source": [
        "# init a 'network'\n",
        "g = torch.Generator().manual_seed(2147483647)\n",
        "W = torch.randn((len(itoss),27), generator=g, requires_grad=True)"
      ],
      "metadata": {
        "id": "famglcvGn3bc"
      },
      "execution_count": 61,
      "outputs": []
    },
    {
      "cell_type": "code",
      "source": [
        "batches = torch.arange(0, 100, 1)\n",
        "losses = []\n",
        "\n",
        "xenc = F.one_hot(xs, num_classes=len(itoss)).float()\n",
        "print(f\"xenc size: {xenc.size()}\")\n",
        "\n",
        "for _ in batches:\n",
        "\n",
        "  # forward pass\n",
        "  logits = xenc @ W\n",
        "  counts = logits.exp()\n",
        "  probs = counts / counts.sum(1, keepdim=True)\n",
        "  loss = -probs[torch.arange(num), ys].log().mean() + 0.01*(W**2).mean()\n",
        "  losses.append()\n",
        "\n",
        "\n"
      ],
      "metadata": {
        "colab": {
          "base_uri": "https://localhost:8080/"
        },
        "id": "zx_qTx-to6Is",
        "outputId": "d463572d-d3a7-45f1-9910-2d0a4b03b36f"
      },
      "execution_count": 62,
      "outputs": [
        {
          "output_type": "stream",
          "name": "stdout",
          "text": [
            "xenc size: torch.Size([196113, 729])\n"
          ]
        }
      ]
    },
    {
      "cell_type": "code",
      "source": [],
      "metadata": {
        "id": "SfVqrno5tSTz"
      },
      "execution_count": 47,
      "outputs": []
    }
  ]
}